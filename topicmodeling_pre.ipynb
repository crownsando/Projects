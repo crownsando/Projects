{
  "nbformat": 4,
  "nbformat_minor": 0,
  "metadata": {
    "colab": {
      "provenance": []
    },
    "kernelspec": {
      "name": "python3",
      "display_name": "Python 3"
    },
    "language_info": {
      "name": "python"
    }
  },
  "cells": [
    {
      "cell_type": "code",
      "source": [
        "import konlpy\n",
        "from konlpy.tag import *\n",
        "import pandas as pd\n",
        "import re"
      ],
      "metadata": {
        "id": "-oj72qRh3IQG"
      },
      "execution_count": null,
      "outputs": []
    },
    {
      "cell_type": "code",
      "source": [
        "hannanum = Hannanum()\n",
        "data = pd.read_csv(\"탄소중립.csv\", encoding='utf-8')"
      ],
      "metadata": {
        "id": "e2MZnx6o3Yyw"
      },
      "execution_count": null,
      "outputs": []
    },
    {
      "cell_type": "code",
      "source": [
        "new_list = []\n",
        "\n",
        "for k in data['title']:\n",
        "    k2 = re.sub('<.+?>', '', str(k), 0).strip()\n",
        "    k3 = re.sub('[^ A-Za-z0-9가-힣]+', ' ', str(k2))\n",
        "    n = hannanum.nouns(k3)\n",
        "    print (n)\n",
        "    new_list.append(n)\n",
        "\n",
        "data['title_hann'] = new_list"
      ],
      "metadata": {
        "id": "_4ntdtU63g63"
      },
      "execution_count": null,
      "outputs": []
    },
    {
      "cell_type": "code",
      "execution_count": null,
      "metadata": {
        "id": "-bn8xTpt3Bqj"
      },
      "outputs": [],
      "source": [
        "content_list = []\n",
        "a = 0\n",
        "for k in data['content']:\n",
        "    print (a)\n",
        "    a+=1\n",
        "    k2 = re.sub('<.+?>', '', str(k), 0).strip()\n",
        "    print (k2)\n",
        "    if k2 == \"[]\":\n",
        "        k3 = \"[]\"\n",
        "    else:\n",
        "    #특수기호 삭제\n",
        "        k3 = re.sub('[^ A-Za-z0-9가-힣]+', ' ', str(k2))\n",
        "    print (k3)\n",
        "    n1 = hannanum.nouns(k3)\n",
        "\n",
        "    content_list.append(n1)\n",
        "data['content_hann'] = content_list"
      ]
    },
    {
      "cell_type": "code",
      "source": [
        "data.to_csv('탄소중립_R.csv',index=False, encoding=\"utf-8-sig\")"
      ],
      "metadata": {
        "id": "As7iiEEw7eqb"
      },
      "execution_count": null,
      "outputs": []
    }
  ]
}